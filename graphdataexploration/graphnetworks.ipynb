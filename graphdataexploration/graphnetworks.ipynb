{
 "cells": [
  {
   "cell_type": "code",
   "execution_count": 1,
   "metadata": {},
   "outputs": [
    {
     "name": "stdout",
     "output_type": "stream",
     "text": [
      "Requirement already satisfied: networkx in c:\\users\\naveen\\documents\\developmentprojects\\pythonprojects\\pythonutilities\\venv\\lib\\site-packages (2.4)\n",
      "Requirement already satisfied: decorator>=4.3.0 in c:\\users\\naveen\\documents\\developmentprojects\\pythonprojects\\pythonutilities\\venv\\lib\\site-packages (from networkx) (4.4.1)\n"
     ]
    },
    {
     "name": "stderr",
     "output_type": "stream",
     "text": [
      "You are using pip version 18.1, however version 20.1 is available.\n",
      "You should consider upgrading via the 'python -m pip install --upgrade pip' command.\n"
     ]
    }
   ],
   "source": [
    "!pip install networkx"
   ]
  },
  {
   "cell_type": "code",
   "execution_count": 5,
   "metadata": {},
   "outputs": [],
   "source": [
    "import networkx as nx\n",
    "import numpy as np\n",
    "import matplotlib.pyplot as plt"
   ]
  },
  {
   "cell_type": "code",
   "execution_count": 8,
   "metadata": {},
   "outputs": [
    {
     "data": {
      "image/png": "[encoded data removed]",
      "text/plain": [
       "<Figure size 432x288 with 1 Axes>"
      ]
     },
     "metadata": {},
     "output_type": "display_data"
    }
   ],
   "source": [
    "G = nx.Graph()\n",
    "edges = [(1, 2), (1, 6), (2, 3), (2, 4), (2, 6),  \n",
    "         (3, 4), (3, 5), (4, 8), (4, 9), (6, 7)] \n",
    "  \n",
    "G.add_edges_from(edges) \n",
    "nx.draw_networkx(G, with_label = True) "
   ]
  },
  {
   "cell_type": "code",
   "execution_count": 9,
   "metadata": {},
   "outputs": [
    {
     "data": {
      "text/plain": [
       "[1, 3, 4, 6]"
      ]
     },
     "execution_count": 9,
     "metadata": {},
     "output_type": "execute_result"
    }
   ],
   "source": [
    "list(G.neighbors(2))"
   ]
  },
  {
   "cell_type": "code",
   "execution_count": 39,
   "metadata": {},
   "outputs": [
    {
     "data": {
      "text/plain": [
       "OutEdgeDataView([(1, 2, {}), (1, 3, {}), (2, 4, {}), (2, 6, {}), (2, 7, {})])"
      ]
     },
     "execution_count": 39,
     "metadata": {},
     "output_type": "execute_result"
    },
    {
     "data": {
      "image/png": "[encoded data removed]",
      "text/plain": [
       "<Figure size 432x288 with 1 Axes>"
      ]
     },
     "metadata": {},
     "output_type": "display_data"
    }
   ],
   "source": [
    "G = nx.DiGraph()\n",
    "G.add_node(1)\n",
    "G.add_nodes_from(range(2,10))\n",
    "G.add_edges_from([(1,2),(1,3),(2,4),(2,6),(2,7)])\n",
    "nx.draw_networkx(G, with_label = True) \n",
    "G.nodes(data=True)\n",
    "G.edges(data=True)"
   ]
  },
  {
   "cell_type": "code",
   "execution_count": 40,
   "metadata": {},
   "outputs": [
    {
     "name": "stdout",
     "output_type": "stream",
     "text": [
      "hello 1 - number of edges 2 - Percentage [0.17670512 0.82329488]\n",
      "successor - 2 - 0 - {4: {}, 6: {}, 7: {}}\n",
      "successor - 3 - 1 - {}\n",
      "{2: {'value': 0.1767051217739129}, 3: {'value': 0.823294878226087}}\n",
      "hello 2 - number of edges 3 - Percentage [0.36236994 0.21882377 0.4188063 ]\n",
      "successor - 4 - 0 - {}\n",
      "successor - 6 - 1 - {}\n",
      "successor - 7 - 2 - {}\n",
      "{4: {'value': 0.36236993525872685}, 6: {'value': 0.21882376929124348}, 7: {'value': 0.4188062954500296}}\n",
      "hello 3 - number of edges 0 - Percentage []\n",
      "hello 4 - number of edges 0 - Percentage []\n",
      "hello 5 - number of edges 0 - Percentage []\n",
      "hello 6 - number of edges 0 - Percentage []\n",
      "hello 7 - number of edges 0 - Percentage []\n",
      "hello 8 - number of edges 0 - Percentage []\n",
      "hello 9 - number of edges 0 - Percentage []\n"
     ]
    }
   ],
   "source": [
    "# iterate over all the nodes\n",
    "# get the out edges of the node\n",
    "# compute the percentage for the outbound node randomly\n",
    "for n in list(G.nodes()):\n",
    "    succ = list(G.successors(n))\n",
    "    k=np.random.rand(len(succ))\n",
    "    perc = k / sum(k)\n",
    "    print(f\"hello {n} - number of edges {len(succ)} - Percentage {perc}\")\n",
    "    update_dict = {}\n",
    "    if (len(succ) > 0):\n",
    "        for ind, s in enumerate(succ):\n",
    "            print(f'successor - {s} - {ind} - {G[s]}')\n",
    "            update_dict[s] = {\"value\":perc[ind]}\n",
    "        print(update_dict)\n",
    "        nx.set_node_attributes(G,update_dict)\n",
    "    "
   ]
  },
  {
   "cell_type": "code",
   "execution_count": 41,
   "metadata": {},
   "outputs": [
    {
     "data": {
      "text/plain": [
       "NodeDataView({1: {}, 2: {'value': 0.1767051217739129}, 3: {'value': 0.823294878226087}, 4: {'value': 0.36236993525872685}, 5: {}, 6: {'value': 0.21882376929124348}, 7: {'value': 0.4188062954500296}, 8: {}, 9: {}})"
      ]
     },
     "execution_count": 41,
     "metadata": {},
     "output_type": "execute_result"
    }
   ],
   "source": [
    "G.nodes(data=True)"
   ]
  },
  {
   "cell_type": "code",
   "execution_count": null,
   "metadata": {},
   "outputs": [],
   "source": []
  }
 ],
 "metadata": {
  "kernelspec": {
   "display_name": "Python 3.6.8 64-bit ('venv': venv)",
   "language": "python",
   "name": "python36864bitvenvvenv15ac724ea9d045aab5eeaefddb10682c"
  },
  "language_info": {
   "codemirror_mode": {
    "name": "ipython",
    "version": 3
   },
   "file_extension": ".py",
   "mimetype": "text/x-python",
   "name": "python",
   "nbconvert_exporter": "python",
   "pygments_lexer": "ipython3",
   "version": "3.6.8"
  }
 },
 "nbformat": 4,
 "nbformat_minor": 4
}
