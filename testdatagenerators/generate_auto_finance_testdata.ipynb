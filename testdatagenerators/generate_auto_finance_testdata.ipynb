{
 "cells": [
  {
   "cell_type": "code",
   "execution_count": 1,
   "metadata": {},
   "outputs": [],
   "source": [
    "import datetime\n",
    "from faker import Faker\n",
    "import pandas as pd\n",
    "import uuid\n",
    "import numpy as np"
   ]
  },
  {
   "cell_type": "code",
   "execution_count": 2,
   "metadata": {},
   "outputs": [],
   "source": [
    "fake = Faker()"
   ]
  },
  {
   "cell_type": "markdown",
   "metadata": {},
   "source": [
    "# This note book will help generate data for the following domains"
   ]
  },
  {
   "cell_type": "raw",
   "metadata": {},
   "source": [
    "customers - Done\n",
    "vehicles - Done\n",
    "loans and leases - Done\n",
    "customer service interactions\n",
    "marketing campaigns\n",
    "collections and interactions"
   ]
  },
  {
   "cell_type": "markdown",
   "metadata": {},
   "source": [
    "# Create all the data structures"
   ]
  },
  {
   "cell_type": "code",
   "execution_count": 3,
   "metadata": {},
   "outputs": [],
   "source": [
    "class Customer:\n",
    "    def __init__(self, name=None, address=None, client_date=None,**kwargs):\n",
    "        self._id = f\"CUST_{uuid.uuid4()}\"\n",
    "        self.name = name\n",
    "        self.address = address\n",
    "        self.client_date = client_date,\n",
    "        self.other_args = kwargs\n",
    "        self.vehicles = []\n",
    "#         for k,v in kwargs.items():\n",
    "#             setattr(self, k, v)\n",
    "    def add_customer_vehicle(self,vehicle):\n",
    "        self.vehicles.append(vehicle)\n",
    "    \n",
    "    def get_vehicle_count(self):\n",
    "        return len(self.vehicles)\n",
    "    \n",
    "    def is_valid(self, d):\n",
    "        return (self.client_date >= d)[0]\n",
    "\n",
    "    def __repr__(self):\n",
    "        return f\" this is customer : {self.name}, address is {self.address}, client_date is {self.client_date}\""
   ]
  },
  {
   "cell_type": "code",
   "execution_count": 4,
   "metadata": {},
   "outputs": [],
   "source": [
    "class Vehicle:\n",
    "    def __init__(self,make=None, manufacturer=None,base_price=None, model=None, model_date=None,trim=None,**kwargs):\n",
    "        self._id = f\"VEH_{uuid.uuid4()}\"\n",
    "        self.manufacturer=manufacturer\n",
    "        self.model=model\n",
    "        self.model_date=model_date\n",
    "        self.base_price=base_price         \n",
    "        self.kwargs = kwargs\n",
    "        \n",
    "    def __repr__(self):\n",
    "        return f\" Manufactuer : {self.manufacturer}, Model: {self.model}, Model Rel Date : {self.model_date}\"        "
   ]
  },
  {
   "cell_type": "code",
   "execution_count": 5,
   "metadata": {},
   "outputs": [],
   "source": [
    "class Dealer:\n",
    "    def __init__(self,name=None,location=None, *args,**kwargs):\n",
    "        self._id = f\"DEALER_{uuid.uuid4()}\"\n",
    "        self.args = args\n",
    "        self.kwargs = kwargs"
   ]
  },
  {
   "cell_type": "code",
   "execution_count": 6,
   "metadata": {},
   "outputs": [],
   "source": [
    "class FinancialContract:\n",
    "    def __init__(self,**kwargs):\n",
    "        self._id = f\"LOAN_{uuid.uuid4()}\"\n",
    "        for k,v in kwargs.items():\n",
    "            setattr(self, k, v)\n",
    "    def __repr__(self):\n",
    "        attributes = self.__dict__\n",
    "        return str(attributes)"
   ]
  },
  {
   "cell_type": "code",
   "execution_count": 7,
   "metadata": {},
   "outputs": [],
   "source": [
    "class MarketingCampaigns:\n",
    "    def __init__(self,**kwargs):\n",
    "        self._id = f\"CAMP_{uuid.uuid4()}\"\n",
    "        self.args = args\n",
    "        self.kwargs = kwargs"
   ]
  },
  {
   "cell_type": "code",
   "execution_count": 8,
   "metadata": {},
   "outputs": [],
   "source": [
    "class Payments:\n",
    "    def __init__(self,customer=None,**kwargs):\n",
    "        self._id = f\"PAY_{uuid.uuid4()}\"\n",
    "        self.args = args\n",
    "        self.kwargs = kwargs"
   ]
  },
  {
   "cell_type": "code",
   "execution_count": 9,
   "metadata": {},
   "outputs": [],
   "source": [
    "class MarketingCampaingnsResponse:\n",
    "    def __init__(self,customer=None,campaign_id=None, response=None,**kwargs):\n",
    "        self._id = f\"MARRESP_{uuid.uuid4()}\"\n",
    "        self.args = args\n",
    "        self.kwargs = kwargs"
   ]
  },
  {
   "cell_type": "code",
   "execution_count": 10,
   "metadata": {},
   "outputs": [],
   "source": [
    "class CustomerSupportInteractions:\n",
    "    def __init__(self,customer=None, interaction_date=None, comments=None,**kwargs):\n",
    "        self.args = args\n",
    "        self.kwargs = kwargs"
   ]
  },
  {
   "cell_type": "markdown",
   "metadata": {},
   "source": [
    "### Create Helper and Builder Functions"
   ]
  },
  {
   "cell_type": "code",
   "execution_count": 11,
   "metadata": {},
   "outputs": [],
   "source": [
    "def get_random_array_value(arr):\n",
    "    a = np.random.randint(0,len(arr))\n",
    "    return arr[a]    "
   ]
  },
  {
   "cell_type": "code",
   "execution_count": 12,
   "metadata": {},
   "outputs": [],
   "source": [
    "def create_customers(n = 1, dates=None):\n",
    "    cust_list = []\n",
    "    for i in range(n):\n",
    "        cust_details = {\n",
    "            \"name\":fake.name(),\n",
    "            \"address\": fake.address(),\n",
    "            \"client_date\": dates[np.random.randint(0,len(dates)-1)]\n",
    "        }\n",
    "        cust_list.append(Customer(**cust_details))\n",
    "    return cust_list"
   ]
  },
  {
   "cell_type": "code",
   "execution_count": 13,
   "metadata": {},
   "outputs": [],
   "source": [
    "def create_vehicles(v_types):\n",
    "    manufacture_dates = []\n",
    "    vehicle_price_ranges = np.arange(25000,45000,step=2500)\n",
    "    all_vehicles = []\n",
    "    for d in np.arange(2009, 2019, 1):\n",
    "        manufacture_dates.append(np.datetime64(f\"{d}\") + np.timedelta64(0,'D'))\n",
    "    for md in manufacture_dates:\n",
    "        for k,veh in v_types.items():\n",
    "            random_vehicle = get_random_array_value(veh)\n",
    "            vehicle_details={\n",
    "                \"manufacturer\":k,\n",
    "                \"model\":random_vehicle,\n",
    "                \"model_date\": md,\n",
    "                \"base_price\": get_random_array_value(vehicle_price_ranges)\n",
    "            }\n",
    "            all_vehicles.append(Vehicle(**vehicle_details))\n",
    "    return all_vehicles        "
   ]
  },
  {
   "cell_type": "code",
   "execution_count": 14,
   "metadata": {},
   "outputs": [],
   "source": [
    "def create_loan_lease(cust=None, vehicle=None, finance_details=None):\n",
    "    finance_details = {\n",
    "        \"customer_id\":cust._id,\n",
    "        \"customer_name\": cust.name,\n",
    "        \"vehicle_id\":vehicle._id,\n",
    "        \"vehicle_manufacturer\": vehicle.manufacturer,\n",
    "        \"vehicle_model\":vehicle.model,\n",
    "        **finance_details\n",
    "    }\n",
    "    return FinancialContract(**finance_details)"
   ]
  },
  {
   "cell_type": "code",
   "execution_count": 15,
   "metadata": {},
   "outputs": [],
   "source": [
    "def find_valid_customers(custs, d):\n",
    "    valid_custs = []\n",
    "    for cust in custs:\n",
    "        if (cust.is_valid(d)):\n",
    "            valid_custs.append(cust)\n",
    "    return valid_custs"
   ]
  },
  {
   "cell_type": "code",
   "execution_count": 16,
   "metadata": {},
   "outputs": [],
   "source": [
    "def create_loans_for_customers( custs, vehicles):\n",
    "    valid_loans = []\n",
    "    for cust in custs:\n",
    "        for veh in vehicles:\n",
    "            if((veh.model_date <= cust.client_date) & (cust.get_vehicle_count() <= 2) ):\n",
    "                purchase_date = cust.client_date + np.timedelta64(np.random.randint(0,45),'D')\n",
    "                if(np.random.random(1)[0] > 0.5):\n",
    "                    loan_start_date = purchase_date + np.timedelta64(np.random.randint(0,5),'D')\n",
    "                    loan_term_in_years = np.random.randint(3,7)\n",
    "                    loan_end_date = loan_start_date + np.timedelta64(loan_term_in_years*365,'D')\n",
    "                    loan_int_rate = get_random_array_value(np.linspace(0.03,0.08,num=20))\n",
    "                    loan_amount = veh.base_price * ( 1 + np.random.random(1)/10)\n",
    "                    loan_total_value = (loan_amount * (( 1 + loan_int_rate) ** loan_term_in_years))\n",
    "                    loan_mnthly_payment_amount = loan_total_value / (loan_term_in_years * 12)\n",
    "                    loan_details={\n",
    "                        \"fin_type\":\"Fixed Term Loan\",\n",
    "                        \"fin_start_date\":loan_start_date,\n",
    "                        \"fin_term_in_years\":loan_term_in_years,\n",
    "                        \"fin_end_date\":loan_end_date,\n",
    "                        \"fin_int_rate\":loan_int_rate,\n",
    "                        \"fin_amout\":loan_amount,\n",
    "                        \"fin_total_value\":loan_total_value,\n",
    "                        \"fin_expected_interest\": loan_total_value - loan_amount,\n",
    "                        \"fin_mnthly_payment_amount\":loan_mnthly_payment_amount\n",
    "                    }\n",
    "                    valid_loans.append(create_loan_lease(cust=cust,vehicle=veh,finance_details=loan_details))\n",
    "                else:\n",
    "                    loan_start_date = purchase_date + np.timedelta64(np.random.randint(0,5),'D')\n",
    "                    loan_term_in_years = np.random.randint(2,5)\n",
    "                    loan_end_date = loan_start_date + np.timedelta64(loan_term_in_years*365,'D')\n",
    "                    loan_int_rate = get_random_array_value(np.linspace(0.04,0.08,num=20))\n",
    "                    loan_amount = veh.base_price * ( 1 + np.random.random(1)/10)\n",
    "                    loan_total_value = (loan_amount * (( 1 + loan_int_rate) ** loan_term_in_years))\n",
    "                    loan_mnthly_payment_amount = loan_total_value / (loan_term_in_years * 12)\n",
    "                    loan_details={\n",
    "                        \"fin_type\":\"Vehicle Lease\",\n",
    "                        \"fin_start_date\":loan_start_date,\n",
    "                        \"fin_term_in_years\":loan_term_in_years,\n",
    "                        \"fin_end_date\":loan_end_date[0],\n",
    "                        \"fin_int_rate\":loan_int_rate,\n",
    "                        \"fin_amout\":loan_amount[0],\n",
    "                        \"fin_total_value\":loan_total_value[0],\n",
    "                        \"fin_expected_interest\": loan_total_value - loan_amount,\n",
    "                        \"fin_mnthly_payment_amount\":loan_mnthly_payment_amount\n",
    "                    }\n",
    "                    valid_loans.append(create_loan_lease(cust=cust,vehicle=veh,finance_details=loan_details))\n",
    "            cust.add_customer_vehicle(veh)\n",
    "    return valid_loans                     \n",
    "                      "
   ]
  },
  {
   "cell_type": "code",
   "execution_count": 17,
   "metadata": {},
   "outputs": [],
   "source": [
    "dates = np.arange('2005-02', '2019-12', dtype='datetime64[D]')\n",
    "terms = [ 3, 5, 6, 7]\n",
    "vehicle_types = {\n",
    "                    \"Volvo\":[\"S40\",\"V40\",\"S70\",\"V70\",\"C70\",\"S80\"] ,\n",
    "                    \"Toyota\": [\"Corolla\",\"Camry\",\"Avalon\",\"Celica\",\"Tacoma\",\"Sienna\",\"RAV4\",\"4Runner\",\"Land Cruiser\"], \n",
    "                    \"Volkswagen\": [ \"Golf\",\"Jetta\",\"Passt\", \"Bettle\"]\n",
    "                }"
   ]
  },
  {
   "cell_type": "code",
   "execution_count": 18,
   "metadata": {},
   "outputs": [],
   "source": [
    "custs = create_customers(n=100, dates=dates)\n",
    "vehicles = create_vehicles(vehicle_types)\n",
    "valid_cust = find_valid_customers(custs, np.datetime64(\"2011\"))"
   ]
  },
  {
   "cell_type": "code",
   "execution_count": 19,
   "metadata": {},
   "outputs": [],
   "source": [
    "loans=create_loans_for_customers(custs,vehicles)"
   ]
  },
  {
   "cell_type": "markdown",
   "metadata": {},
   "source": [
    "### Model Delinquent customers"
   ]
  },
  {
   "cell_type": "markdown",
   "metadata": {},
   "source": [
    "### Model Campaigns on New vehicles Before the vehicle Launch"
   ]
  },
  {
   "cell_type": "markdown",
   "metadata": {},
   "source": [
    "### Model Campaigns for Customers who are Nearining their Lease Term"
   ]
  },
  {
   "cell_type": "markdown",
   "metadata": {},
   "source": [
    "### Model customer Interactions during the term of the Loan"
   ]
  },
  {
   "cell_type": "markdown",
   "metadata": {},
   "source": [
    "### Model relationships with the dealers"
   ]
  },
  {
   "cell_type": "markdown",
   "metadata": {},
   "source": [
    "### Model customer ineractivity across channels - Web, Voice, contact Center"
   ]
  },
  {
   "cell_type": "markdown",
   "metadata": {},
   "source": [
    "### Save the Information Into CSV files and build capability to Push this to SQL Lite or Other Databases"
   ]
  },
  {
   "cell_type": "code",
   "execution_count": null,
   "metadata": {},
   "outputs": [],
   "source": []
  }
 ],
 "metadata": {
  "kernelspec": {
   "display_name": "Python 3",
   "language": "python",
   "name": "python3"
  },
  "language_info": {
   "codemirror_mode": {
    "name": "ipython",
    "version": 3
   },
   "file_extension": ".py",
   "mimetype": "text/x-python",
   "name": "python",
   "nbconvert_exporter": "python",
   "pygments_lexer": "ipython3",
   "version": "3.6.8"
  }
 },
 "nbformat": 4,
 "nbformat_minor": 4
}
