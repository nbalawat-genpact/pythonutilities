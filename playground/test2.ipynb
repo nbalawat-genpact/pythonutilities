{
 "cells": [
  {
   "cell_type": "code",
   "execution_count": null,
   "metadata": {},
   "outputs": [],
   "source": [
    "# This is how the kwargs are organized"
   ]
  },
  {
   "cell_type": "code",
   "execution_count": 15,
   "metadata": {},
   "outputs": [],
   "source": [
    "def test_args_kwargs(*args, **kwargs):\n",
    "    for a in args:\n",
    "        print(f\"Argument : {a}\")\n",
    "    \n",
    "    for k in kwargs:\n",
    "        print(f\"The kwargs : {k}: The value is {kwargs[k]}\")\n"
   ]
  },
  {
   "cell_type": "code",
   "execution_count": 16,
   "metadata": {},
   "outputs": [],
   "source": [
    "args = [ 1, 3, 4, 5, 6]"
   ]
  },
  {
   "cell_type": "code",
   "execution_count": 17,
   "metadata": {},
   "outputs": [],
   "source": [
    "keyword_args={\"n\": \"naveen\", \"k\":\"Hello\"}"
   ]
  },
  {
   "cell_type": "code",
   "execution_count": 18,
   "metadata": {},
   "outputs": [
    {
     "name": "stdout",
     "output_type": "stream",
     "text": [
      "Argument : 1\n",
      "Argument : 3\n",
      "Argument : 4\n",
      "Argument : 5\n",
      "Argument : 6\n",
      "The kwargs : n: The value is naveen\n",
      "The kwargs : k: The value is Hello\n"
     ]
    }
   ],
   "source": [
    "test_args_kwargs(*args,**keyword_args)"
   ]
  },
  {
   "cell_type": "code",
   "execution_count": 19,
   "metadata": {},
   "outputs": [],
   "source": [
    "import json"
   ]
  },
  {
   "cell_type": "code",
   "execution_count": 20,
   "metadata": {},
   "outputs": [
    {
     "name": "stdout",
     "output_type": "stream",
     "text": [
      "The Json string is : {\"n\": \"naveen\", \"k\": \"Hello\"}\n"
     ]
    }
   ],
   "source": [
    "json_string = json.dumps(keyword_args)\n",
    "print(f\"The Json string is : {json_string}\")"
   ]
  },
  {
   "cell_type": "code",
   "execution_count": null,
   "metadata": {},
   "outputs": [],
   "source": [
    "DD"
   ]
  },
  {
   "cell_type": "code",
   "execution_count": 18,
   "metadata": {},
   "outputs": [],
   "source": [
    "with open('sample.json', 'w') as json_file:\n",
    "  json.dump(keyword_args, json_file)"
   ]
  },
  {
   "cell_type": "code",
   "execution_count": null,
   "metadata": {},
   "outputs": [],
   "source": []
  }
 ],
 "metadata": {
  "kernelspec": {
   "display_name": "Python 3",
   "language": "python",
   "name": "python3"
  },
  "language_info": {
   "codemirror_mode": {
    "name": "ipython",
    "version": 3
   },
   "file_extension": ".py",
   "mimetype": "text/x-python",
   "name": "python",
   "nbconvert_exporter": "python",
   "pygments_lexer": "ipython3",
   "version": "3.6.8"
  }
 },
 "nbformat": 4,
 "nbformat_minor": 4
}
